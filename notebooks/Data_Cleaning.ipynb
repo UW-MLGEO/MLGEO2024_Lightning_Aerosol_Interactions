{
 "cells": [
  {
   "cell_type": "code",
   "execution_count": null,
   "id": "30f4642c",
   "metadata": {},
   "outputs": [],
   "source": [
    "import xarray as xr\n",
    "import os\n",
    "\n",
    "# Create the 'data/clean/' directory if it doesn't exist\n",
    "output_directory = 'data/clean/'\n",
    "os.makedirs(output_directory, exist_ok=True)\n",
    "\n",
    "# Loop through all days in July\n",
    "for day in range(1, 32):  # Days 1 to 31\n",
    "    # Format the day to be two digits (e.g., 01, 02, ..., 31)\n",
    "    day_str = f\"{day:02d}\"\n",
    "    \n",
    "    # Construct the filename for the current day\n",
    "    filename = f'CAPE_Jul_{day_str}.nc'\n",
    "    \n",
    "    try:\n",
    "        # Load the dataset for the current day\n",
    "        day_ds = xr.open_dataset(filename)\n",
    "\n",
    "        # Adjust coordinates\n",
    "        day_ds.coords['longitude'] = (day_ds.coords['longitude'] + 180) % 360 - 180\n",
    "        day_ds = day_ds.sortby(day_ds.latitude).sortby(day_ds.longitude)\n",
    "\n",
    "        # Handle missing values\n",
    "        day_ds['cape'] = day_ds['cape'].fillna(day_ds['cape'].mean())\n",
    "\n",
    "        # Correct or remove outliers using the IQR method\n",
    "        Q1 = day_ds['cape'].quantile(0.25)\n",
    "        Q3 = day_ds['cape'].quantile(0.75)\n",
    "        IQR = Q3 - Q1\n",
    "        lower_bound = Q1 - 1.5 * IQR\n",
    "        upper_bound = Q3 + 1.5 * IQR\n",
    "        day_ds_cleaned = day_ds.where((day_ds['cape'] >= lower_bound) & (day_ds['cape'] <= upper_bound), drop=True)\n",
    "\n",
    "        # Save the cleaned data to a new netCDF file\n",
    "        cleaned_filename = f'{output_directory}CAPE_Jul_{day_str}_cleaned.nc'\n",
    "        day_ds_cleaned.to_netcdf(cleaned_filename)\n",
    "        print(f'Successfully cleaned and saved: {cleaned_filename}')\n",
    "\n",
    "    except FileNotFoundError:\n",
    "        print(f'File not found: {filename}. Skipping this day.')\n",
    "    except Exception as e:\n",
    "        print(f'Error processing {filename}: {e}')"
   ]
  }
 ],
 "metadata": {
  "kernelspec": {
   "display_name": "Python [conda env:plotenv]",
   "language": "python",
   "name": "conda-env-plotenv-py"
  },
  "language_info": {
   "codemirror_mode": {
    "name": "ipython",
    "version": 3
   },
   "file_extension": ".py",
   "mimetype": "text/x-python",
   "name": "python",
   "nbconvert_exporter": "python",
   "pygments_lexer": "ipython3",
   "version": "3.9.19"
  },
  "toc": {
   "base_numbering": 1,
   "nav_menu": {},
   "number_sections": true,
   "sideBar": true,
   "skip_h1_title": false,
   "title_cell": "Table of Contents",
   "title_sidebar": "Contents",
   "toc_cell": false,
   "toc_position": {},
   "toc_section_display": true,
   "toc_window_display": false
  }
 },
 "nbformat": 4,
 "nbformat_minor": 5
}

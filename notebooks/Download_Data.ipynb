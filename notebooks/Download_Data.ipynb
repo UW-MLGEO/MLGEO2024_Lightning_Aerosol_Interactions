{
 "cells": [
  {
   "cell_type": "code",
   "execution_count": null,
   "id": "1bb7c482",
   "metadata": {
    "ExecuteTime": {
     "end_time": "2024-10-30T16:42:15.990891Z",
     "start_time": "2024-10-30T16:42:07.516222Z"
    }
   },
   "outputs": [],
   "source": [
    "import xarray as xr\n",
    "import os"
   ]
  },
  {
   "cell_type": "markdown",
   "id": "5ad4d899",
   "metadata": {},
   "source": [
    "# IMERG (Precipitation) Data"
   ]
  },
  {
   "cell_type": "markdown",
   "id": "b4eaf303",
   "metadata": {},
   "source": [
    "In order to make the process easier, make a directory specifically for IMERG output, as a large amount of netCDF files are created in the text file. Navigate to the proper directory, and proceed with the following commands."
   ]
  },
  {
   "cell_type": "code",
   "execution_count": null,
   "id": "454cbe87",
   "metadata": {
    "ExecuteTime": {
     "end_time": "2024-10-30T16:42:16.141125Z",
     "start_time": "2024-10-30T16:42:16.136984Z"
    }
   },
   "outputs": [],
   "source": [
    "os.chdir('/path/to/directory/')"
   ]
  },
  {
   "cell_type": "markdown",
   "id": "6975e742",
   "metadata": {},
   "source": [
    "The .txt file is located in the data/text_files directory. In order to run the command, the .txt file must be in your present directory, so move it to the directory you wish to extract the files in.\n",
    "\n",
    "It is possible that the .txt file resets after a few days, in which case another must be generated. In order to do so, download a new list from GES DISC (the proper dataset is located at this link: https://disc.gsfc.nasa.gov/datasets/GPM_3IMERGHH_07/summary?keywords=imerg). In order to download data, an account on GES DISC is necessary.\n",
    "\n",
    "To recreate the domain used in this project, click on \"Subset/Get Data\" under Data Access, followed by \"Get File Subsets using the GES DISC Subsetter\" in the \"Download Method\" section. Change the data range from 2023-01-01 to 2023-12-31 under Refine \"Date Range\", and enter -125,24.5,-66.5,50 under \"Refine Region\". Under \"Select Variables\", select precipitation. Afer this, click \"Get Data\" at the bottom. Click \"Download Links List\" from the following pop-up, and follow the Download Instructions.\n",
    "\n",
    "A .txt file containing the list of links will be created. Place the .txt file in the desired directory before running the command (I am using wget for Linux/OS). Replace the .txt file at the end of the wget command with the proper link."
   ]
  },
  {
   "cell_type": "code",
   "execution_count": null,
   "id": "f1bf9baa",
   "metadata": {
    "ExecuteTime": {
     "end_time": "2024-10-30T16:42:16.133201Z",
     "start_time": "2024-10-30T16:42:15.993559Z"
    }
   },
   "outputs": [],
   "source": [
    "#Extract the list of netCDFs from the .txt file\n",
    "!wget --load-cookies ~/.urs_cookies --save-cookies ~/.urs_cookies --keep-session-cookies --user=<username> --ask-password --content-disposition -i subset_GPM_3IMERGHH_07_20241026_141236_.txt"
   ]
  },
  {
   "cell_type": "code",
   "execution_count": null,
   "id": "00066775",
   "metadata": {
    "ExecuteTime": {
     "end_time": "2024-10-30T18:48:59.850739Z",
     "start_time": "2024-10-30T18:47:30.236137Z"
    }
   },
   "outputs": [],
   "source": [
    "imerg = xr.open_mfdataset('*.nc4')\n",
    "imerg"
   ]
  },
  {
   "cell_type": "markdown",
   "id": "c4250bfe",
   "metadata": {},
   "source": [
    "Save the netCDF in a directory called \"raw\". Do not worry about a long download time, the netCDF file is relatively large (~10 GB)."
   ]
  },
  {
   "cell_type": "code",
   "execution_count": null,
   "id": "97703f4e",
   "metadata": {
    "ExecuteTime": {
     "end_time": "2024-10-30T19:12:31.041981Z",
     "start_time": "2024-10-30T19:08:08.005396Z"
    }
   },
   "outputs": [],
   "source": [
    "#Save the netCDF. Chunking allows for the large files to be saved more efficiently.\n",
    "chunks = {\"time\": 1000, \"lon\": 195, \"lat\": 85}\n",
    "encoding = {var: {\"chunksizes\": [chunks[dim] for dim in imerg[var].dims]} for var in imerg.data_vars}\n",
    "imerg.to_netcdf(\"/path/to/directory/raw/IMERG.nc\", encoding=encoding)"
   ]
  },
  {
   "cell_type": "markdown",
   "id": "690f57cd",
   "metadata": {},
   "source": [
    "# MERRA2 (Aerosols) Data"
   ]
  },
  {
   "cell_type": "markdown",
   "id": "e4cf78e4",
   "metadata": {},
   "source": [
    "The process for MERRA2 data is very similar to that for IMERG. Data can be found here: https://disc.gsfc.nasa.gov/datasets/M2T1NXAER_5.12.4/summary. Use the same parameters as for the precipitation data, but under \"Select Variables\", choose the desired variables. For this study, BCCMASS, BCSMASS, DUCMASS, DUCMASS25, DUSMASS, DUSMASS25, OCCMASS, OCSMASS, SO2CMASS, SO2SMASS, SO4CMASS, SO4SMASS, SSCMASS, SSCMASS25, SSSMASS, and SSSMASS25 are used. \"CMASS\" variables correspond to aerosol column mass densities, while \"SMASS\" variables correspond to aerosol surface mass concentrations."
   ]
  },
  {
   "cell_type": "code",
   "execution_count": null,
   "id": "e7cbc541",
   "metadata": {
    "ExecuteTime": {
     "end_time": "2024-10-30T19:51:55.141745Z",
     "start_time": "2024-10-30T19:51:55.136445Z"
    }
   },
   "outputs": [],
   "source": [
    "os.chdir('/path/to/directory/MERRA2/')"
   ]
  },
  {
   "cell_type": "code",
   "execution_count": null,
   "id": "96534f21",
   "metadata": {
    "ExecuteTime": {
     "end_time": "2024-10-30T19:51:59.293955Z",
     "start_time": "2024-10-30T19:51:59.035204Z"
    }
   },
   "outputs": [],
   "source": [
    "#Extract the list of netCDFs from the .txt file\n",
    "!wget --load-cookies ~/.urs_cookies --save-cookies ~/.urs_cookies --keep-session-cookies --user=<username> --ask-password --content-disposition -i subset_M2T1NXAER_5.12.4_20241030_194637_.txt"
   ]
  },
  {
   "cell_type": "code",
   "execution_count": null,
   "id": "2e437ce3",
   "metadata": {
    "ExecuteTime": {
     "end_time": "2024-10-30T21:25:48.340375Z",
     "start_time": "2024-10-30T21:25:37.737166Z"
    }
   },
   "outputs": [],
   "source": [
    "aer = xr.open_mfdataset('/path/to/directory/MERRA2/*.nc')\n",
    "aer"
   ]
  },
  {
   "cell_type": "code",
   "execution_count": null,
   "id": "aac9069e",
   "metadata": {
    "ExecuteTime": {
     "end_time": "2024-10-30T21:33:24.971153Z",
     "start_time": "2024-10-30T21:27:22.424157Z"
    }
   },
   "outputs": [],
   "source": [
    "#Save the netCDF. Chunking allows for the large files to be saved more efficiently.\n",
    "chunks = {\"time\": 100, \"lon\": 94, \"lat\": 52}\n",
    "encoding = {var: {\"chunksizes\": [chunks[dim] for dim in aer[var].dims]} for var in aer.data_vars}\n",
    "aer.to_netcdf(\"/path/to/directory/raw/MERRA2.nc\", encoding=encoding)"
   ]
  },
  {
   "cell_type": "markdown",
   "id": "16b1ab28",
   "metadata": {},
   "source": [
    "# ERA5 (CAPE) Data"
   ]
  },
  {
   "cell_type": "markdown",
   "id": "92f2923c",
   "metadata": {},
   "source": [
    "CAPE data is taken from the ECMWF's ERA5 reanalysis, linked here: https://cds.climate.copernicus.eu/datasets/reanalysis-era5-single-levels?tab=download. In order to use the following code, an account must be made on Copernicus, and the CDSAPI client must be set up. Instructions on how to configure the CDSAPI are here: https://cds.climate.copernicus.eu/how-to-api"
   ]
  },
  {
   "cell_type": "code",
   "execution_count": null,
   "id": "87051773",
   "metadata": {
    "ExecuteTime": {
     "end_time": "2024-10-30T22:55:32.326094Z",
     "start_time": "2024-10-30T22:55:32.319738Z"
    }
   },
   "outputs": [],
   "source": [
    "os.chdir('/path/to/directory/raw/')"
   ]
  },
  {
   "cell_type": "code",
   "execution_count": null,
   "id": "247c17c2",
   "metadata": {
    "ExecuteTime": {
     "end_time": "2024-10-30T22:47:39.128670Z",
     "start_time": "2024-10-30T22:21:24.739264Z"
    }
   },
   "outputs": [],
   "source": [
    "import cdsapi\n",
    "\n",
    "dataset = \"reanalysis-era5-single-levels\"\n",
    "request = {\n",
    "    \"product_type\": [\"reanalysis\"],\n",
    "    \"variable\": [\"convective_available_potential_energy\"],\n",
    "    \"year\": [\"2023\"],\n",
    "    \"month\": [\n",
    "        \"01\", \"02\", \"03\",\n",
    "        \"04\", \"05\", \"06\",\n",
    "        \"07\", \"08\", \"09\",\n",
    "        \"10\", \"11\", \"12\"\n",
    "    ],\n",
    "    \"day\": [\n",
    "        \"01\", \"02\", \"03\",\n",
    "        \"04\", \"05\", \"06\",\n",
    "        \"07\", \"08\", \"09\",\n",
    "        \"10\", \"11\", \"12\",\n",
    "        \"13\", \"14\", \"15\",\n",
    "        \"16\", \"17\", \"18\",\n",
    "        \"19\", \"20\", \"21\",\n",
    "        \"22\", \"23\", \"24\",\n",
    "        \"25\", \"26\", \"27\",\n",
    "        \"28\", \"29\", \"30\",\n",
    "        \"31\"\n",
    "    ],\n",
    "    \"time\": [\n",
    "        \"00:00\", \"01:00\", \"02:00\",\n",
    "        \"03:00\", \"04:00\", \"05:00\",\n",
    "        \"06:00\", \"07:00\", \"08:00\",\n",
    "        \"09:00\", \"10:00\", \"11:00\",\n",
    "        \"12:00\", \"13:00\", \"14:00\",\n",
    "        \"15:00\", \"16:00\", \"17:00\",\n",
    "        \"18:00\", \"19:00\", \"20:00\",\n",
    "        \"21:00\", \"22:00\", \"23:00\"\n",
    "    ],\n",
    "    \"data_format\": \"grib\",\n",
    "    \"download_format\": \"unarchived\",\n",
    "    \"area\": [50, -125, 24.5, -66.5]\n",
    "}\n",
    "\n",
    "client = cdsapi.Client()\n",
    "client.retrieve(dataset, request, \"CAPE.grib\")"
   ]
  },
  {
   "cell_type": "markdown",
   "id": "8d671c4f",
   "metadata": {},
   "source": [
    "The output received is a .grib file. In order to convert this to a netCDF, the command grib_to_netcdf must be used like below."
   ]
  },
  {
   "cell_type": "code",
   "execution_count": null,
   "id": "e3af2d57",
   "metadata": {
    "ExecuteTime": {
     "end_time": "2024-10-30T22:59:01.095138Z",
     "start_time": "2024-10-30T22:58:43.947697Z"
    }
   },
   "outputs": [],
   "source": [
    "!grib_to_netcdf CAPE.grib -o CAPE.nc"
   ]
  },
  {
   "cell_type": "markdown",
   "id": "d9fa82dd",
   "metadata": {},
   "source": [
    "# WWLLN (Lightning) Data"
   ]
  },
  {
   "cell_type": "markdown",
   "id": "b8ff0824",
   "metadata": {},
   "source": [
    "Lightning data is taken from the World Wide Lightning Location Network (WWLLN), developed at the University of Washington. Data is not publicly available, but is available upon request. Instructions are located here: https://wwlln.net/. Since the data is not publicaly available, I will be subsetting lightning data I have already obtained."
   ]
  },
  {
   "cell_type": "code",
   "execution_count": null,
   "id": "fa9eab74",
   "metadata": {
    "ExecuteTime": {
     "end_time": "2024-10-30T23:16:30.826539Z",
     "start_time": "2024-10-30T23:16:30.822111Z"
    }
   },
   "outputs": [],
   "source": [
    "os.chdir('/home/giantstep4/data/WWLLN_gridded/3hourly/0.1degree')"
   ]
  },
  {
   "cell_type": "code",
   "execution_count": null,
   "id": "972cbff1",
   "metadata": {
    "ExecuteTime": {
     "end_time": "2024-10-30T23:18:15.280527Z",
     "start_time": "2024-10-30T23:18:12.594287Z"
    }
   },
   "outputs": [],
   "source": [
    "wwlln = xr.open_mfdataset('*2023*')\n",
    "wwlln"
   ]
  },
  {
   "cell_type": "code",
   "execution_count": null,
   "id": "ad7b292d",
   "metadata": {
    "ExecuteTime": {
     "end_time": "2024-10-31T02:43:27.198095Z",
     "start_time": "2024-10-31T01:47:10.525365Z"
    }
   },
   "outputs": [],
   "source": [
    "chunks = {\"time\": 292, \"lon\": 360, \"lat\": 135}\n",
    "encoding = {var: {\"chunksizes\": [chunks[dim] for dim in wwlln[var].dims]} for var in wwlln.data_vars}\n",
    "wwlln.to_netcdf(\"/path/to/directory/raw/WWLLN.nc\", encoding=encoding)"
   ]
  }
 ],
 "metadata": {
  "kernelspec": {
   "display_name": "Python [conda env:plotenv]",
   "language": "python",
   "name": "conda-env-plotenv-py"
  },
  "language_info": {
   "codemirror_mode": {
    "name": "ipython",
    "version": 3
   },
   "file_extension": ".py",
   "mimetype": "text/x-python",
   "name": "python",
   "nbconvert_exporter": "python",
   "pygments_lexer": "ipython3",
   "version": "3.9.19"
  },
  "toc": {
   "base_numbering": 1,
   "nav_menu": {},
   "number_sections": false,
   "sideBar": true,
   "skip_h1_title": false,
   "title_cell": "Table of Contents",
   "title_sidebar": "Contents",
   "toc_cell": false,
   "toc_position": {},
   "toc_section_display": true,
   "toc_window_display": true
  }
 },
 "nbformat": 4,
 "nbformat_minor": 5
}

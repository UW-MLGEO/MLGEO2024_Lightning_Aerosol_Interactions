{
 "cells": [
  {
   "cell_type": "code",
   "execution_count": null,
   "id": "e5195562",
   "metadata": {},
   "outputs": [],
   "source": [
    "!pip install cdsapi"
   ]
  },
  {
   "cell_type": "code",
   "execution_count": null,
   "id": "7f18409b",
   "metadata": {},
   "outputs": [],
   "source": [
    "import cdsapi\n",
    "import time\n",
    "from requests.exceptions import ChunkedEncodingError\n",
    "\n",
    "# Initialize the API client\n",
    "c = cdsapi.Client()\n",
    "\n",
    "# Define the directory where you want to save the files\n",
    "output_directory = \"/data/raw/\"\n",
    "\n",
    "# Maximum number of retries\n",
    "max_retries = 5\n",
    "\n",
    "# Define the month as July\n",
    "month_name = \"Jul\"\n",
    "month_str = \"07\"\n",
    "\n",
    "# Loop through each day in July (1 to 31)\n",
    "for day in range(1, 32):\n",
    "    day_str = f\"{day:02d}\"  # Format day as two digits (e.g., '01', '02', ...)\n",
    "    output_file_path = f\"{output_directory}CAPE_{month_name}_{day_str}.grib\"\n",
    "    \n",
    "    retries = 0\n",
    "    success = False\n",
    "    \n",
    "    while retries < max_retries and not success:\n",
    "        try:\n",
    "            # Request data for the specific day in July\n",
    "            c.retrieve(\n",
    "                'reanalysis-era5-single-levels',\n",
    "                {\n",
    "                    'product_type': 'reanalysis',\n",
    "                    'variable': 'convective_available_potential_energy',\n",
    "                    'year': '2023',\n",
    "                    'month': month_str,\n",
    "                    'day': day_str,\n",
    "                    'time': ['00:00'],\n",
    "                    'format': 'grib'\n",
    "                },\n",
    "                output_file_path\n",
    "            )\n",
    "            \n",
    "            print(f\"Data for July {day_str} saved as {output_file_path}\")\n",
    "            success = True  # Mark as successful, so the loop stops\n",
    "            \n",
    "        except ChunkedEncodingError as e:\n",
    "            retries += 1\n",
    "            print(f\"Error encountered: {e}. Retrying {retries}/{max_retries}...\")\n",
    "            time.sleep(5)  # Wait for 5 seconds before retrying\n",
    "    \n",
    "    if not success:\n",
    "        print(f\"Failed to download data for July {day_str} after {max_retries} attempts.\")"
   ]
  }
 ],
 "metadata": {
  "kernelspec": {
   "display_name": "Python [conda env:plotenv]",
   "language": "python",
   "name": "conda-env-plotenv-py"
  },
  "language_info": {
   "codemirror_mode": {
    "name": "ipython",
    "version": 3
   },
   "file_extension": ".py",
   "mimetype": "text/x-python",
   "name": "python",
   "nbconvert_exporter": "python",
   "pygments_lexer": "ipython3",
   "version": "3.9.19"
  },
  "toc": {
   "base_numbering": 1,
   "nav_menu": {},
   "number_sections": true,
   "sideBar": true,
   "skip_h1_title": false,
   "title_cell": "Table of Contents",
   "title_sidebar": "Contents",
   "toc_cell": false,
   "toc_position": {},
   "toc_section_display": true,
   "toc_window_display": false
  }
 },
 "nbformat": 4,
 "nbformat_minor": 5
}
